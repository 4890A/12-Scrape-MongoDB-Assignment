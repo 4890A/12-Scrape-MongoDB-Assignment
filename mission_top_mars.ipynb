{
 "cells": [
  {
   "cell_type": "code",
   "execution_count": 1,
   "metadata": {},
   "outputs": [],
   "source": [
    "from bs4 import BeautifulSoup as bs\n",
    "import pandas as pd\n",
    "import requests\n",
    "import time\n",
    "from splinter import Browser\n",
    "import re"
   ]
  },
  {
   "cell_type": "code",
   "execution_count": 3,
   "metadata": {},
   "outputs": [],
   "source": [
    "def init_browser():\n",
    "    # @NOTE: Replace the path with your actual path to the chromedriver\n",
    "    executable_path = {\"executable_path\": \"/usr/local/bin/chromedriver\"}\n",
    "    return Browser(\"chrome\", **executable_path, headless=True)\n",
    "\n",
    "\n",
    "def scrape_info(url):\n",
    "    browser = init_browser()\n",
    "\n",
    "    # Visit visitcostarica.herokuapp.com\n",
    "    browser.visit(url)\n",
    "\n",
    "    time.sleep(1)\n",
    "    # Scrape without splinter\n",
    "    # html = requests.get(\"https://mars.nasa.gov/news/\").text\n",
    "    # soup = bs.BeautifulSoup(html, 'html.parser')\n",
    "    \n",
    "    # Scrape page into Soup\n",
    "    html = browser.html\n",
    "    soup = bs(html, \"lxml\")\n",
    "    \n",
    "    browser.quit()\n",
    "    return soup\n",
    "    \n",
    "def scrape_nasa_news():\n",
    "    url = \"https://mars.nasa.gov/news/\"\n",
    "    soup = scrape_info(url)\n",
    "    news_title = soup.find('div', class_='content_title').text.strip()\n",
    "    news_p = soup.find('div', class_='article_teaser_body').text.strip()\n",
    "    return news_title, news_p\n",
    "\n",
    "def scrape_nasa_spaceimages():\n",
    "    browser = init_browser()\n",
    "    browser.visit(\"https://www.jpl.nasa.gov/spaceimages/?search=&category=Mars\")\n",
    "    time.sleep(1)\n",
    "    # Click's the link to produce a larger version of the featured image\n",
    "    browser.click_link_by_partial_text('FULL IMAGE')\n",
    "    time.sleep(1)\n",
    "    soup = bs(browser.html, \"lxml\")\n",
    "    soup.find()\n",
    "    # finds the relative path to the image, and converts it to a full image path\n",
    "    img_url = (\"https://www.jpl.nasa.gov/spaceimages/\" + \n",
    "               soup.find('img',class_=\"fancybox-image\")['src'].split(\"/\",2)[-1])\n",
    "    browser.quit()\n",
    "    return img_url    \n",
    "\n",
    "def scrape_twitter():\n",
    "    url = \"https://twitter.com/marswxreport?lang=en\"\n",
    "    soup = scrape_info(url)\n",
    "    # regular expression pattern to pass to soup's find\n",
    "    pattern = re.compile(r'InSight sol')\n",
    "    # find text in the html hat contains the starting message for the weather tweet\n",
    "    last_tweet = soup.find_all(text=pattern)[0].replace('\\n', ' ')\n",
    "    return last_tweet\n",
    "\n",
    "def scrape_table():\n",
    "    html = requests.get(\"https://space-facts.com/mars/\").content\n",
    "    # the second table has mars's facts\n",
    "    df = pd.read_html(html)[1]\n",
    "    return df\n",
    "\n",
    "def scrape_hemisphere():\n",
    "    wayback = \"https://web.archive.org/web/20181114171728/\"\n",
    "    #wayback = \"\"\n",
    "    html = requests.get(wayback + \n",
    "                        \"https://astrogeology.usgs.gov/search/results?q=hemisphere+enhanced&k1=target&v1=Mars\").content\n",
    "    soup = bs(html, 'lxml')\n",
    "    items = soup.find_all('div', class_='item')\n",
    "    #urls = [\"https://astrogeology.usgs.gov\" + item.find('a')['href'] for item in items]\n",
    "    urls = [\"https://web.archive.org\" + item.find('a')['href'] for item in items]\n",
    "    print(urls)\n",
    "    hemisphere_image_urls = []\n",
    "    for path in urls:\n",
    "        print(path)\n",
    "        soup_hemisphere = bs(requests.get(path).content, 'lxml')\n",
    "        title = soup_hemisphere.find('h2', class_='title').text\n",
    "        img_url = soup_hemisphere.find('div', class_='downloads').find('a')['href']\n",
    "        hemisphere_image_urls.append({\"title\": title, \"img_url\": img_url})\n",
    "    return hemisphere_image_urls\n",
    "\n",
    "def scrape():\n",
    "    news_title, news_p = scrape_nasa_news()\n",
    "    featured_img_url = scrape_nasa_spaceimages()\n",
    "    last_tweet = scrape_twitter()\n",
    "    facts_df = scrape_table()\n",
    "    hemisphere_img_urls = scrape_hemisphere()\n",
    "    results = {\"news_title\": news_title, \"news_p\": news_p,\n",
    "     \"featured_img_url\": featured_img_url, \"last_tweet\": last_tweet,\n",
    "     \"facts_df\": facts_df, \"hemisphere_img_urls\":hemisphere_img_urls}\n",
    "    return results"
   ]
  },
  {
   "cell_type": "code",
   "execution_count": null,
   "metadata": {},
   "outputs": [],
   "source": []
  },
  {
   "cell_type": "code",
   "execution_count": 4,
   "metadata": {},
   "outputs": [
    {
     "name": "stdout",
     "output_type": "stream",
     "text": [
      "['https://web.archive.org/web/20181114171728/https://astrogeology.usgs.gov/search/map/Mars/Viking/cerberus_enhanced', 'https://web.archive.org/web/20181114171728/https://astrogeology.usgs.gov/search/map/Mars/Viking/schiaparelli_enhanced', 'https://web.archive.org/web/20181114171728/https://astrogeology.usgs.gov/search/map/Mars/Viking/syrtis_major_enhanced', 'https://web.archive.org/web/20181114171728/https://astrogeology.usgs.gov/search/map/Mars/Viking/valles_marineris_enhanced']\n",
      "https://web.archive.org/web/20181114171728/https://astrogeology.usgs.gov/search/map/Mars/Viking/cerberus_enhanced\n",
      "https://web.archive.org/web/20181114171728/https://astrogeology.usgs.gov/search/map/Mars/Viking/schiaparelli_enhanced\n",
      "https://web.archive.org/web/20181114171728/https://astrogeology.usgs.gov/search/map/Mars/Viking/syrtis_major_enhanced\n",
      "https://web.archive.org/web/20181114171728/https://astrogeology.usgs.gov/search/map/Mars/Viking/valles_marineris_enhanced\n"
     ]
    },
    {
     "data": {
      "text/plain": [
       "{'news_title': 'Small Satellite Mission of the Year',\n",
       " 'news_p': 'The first interplanetary CubeSats were recognized by the engineering community with the 2019 Small Satellite Mission of the Year award.',\n",
       " 'featured_img_url': 'https://www.jpl.nasa.gov/spaceimages/images/mediumsize/PIA15256_ip.jpg',\n",
       " 'last_tweet': 'InSight sol 250 (2019-08-10) low -100.0ºC (-148.1ºF) high -26.2ºC (-15.1ºF) winds from the SSE at 4.4 m/s (9.8 mph) gusting to 16.2 m/s (36.2 mph) pressure at 7.60 hPa',\n",
       " 'facts_df':                       0                              1\n",
       " 0  Equatorial Diameter:                       6,792 km\n",
       " 1       Polar Diameter:                       6,752 km\n",
       " 2                 Mass:  6.39 × 10^23 kg (0.11 Earths)\n",
       " 3                Moons:            2 (Phobos & Deimos)\n",
       " 4       Orbit Distance:       227,943,824 km (1.38 AU)\n",
       " 5         Orbit Period:           687 days (1.9 years)\n",
       " 6  Surface Temperature:                   -87 to -5 °C\n",
       " 7         First Record:              2nd millennium BC\n",
       " 8          Recorded By:           Egyptian astronomers,\n",
       " 'hemisphere_img_urls': [{'title': 'Cerberus Hemisphere Enhanced',\n",
       "   'img_url': 'https://web.archive.org/web/20181114182238/http://astropedia.astrogeology.usgs.gov/download/Mars/Viking/cerberus_enhanced.tif/full.jpg'},\n",
       "  {'title': 'Schiaparelli Hemisphere Enhanced',\n",
       "   'img_url': 'https://web.archive.org/web/20181114182242/http://astropedia.astrogeology.usgs.gov/download/Mars/Viking/schiaparelli_enhanced.tif/full.jpg'},\n",
       "  {'title': 'Syrtis Major Hemisphere Enhanced',\n",
       "   'img_url': 'https://web.archive.org/web/20181114182245/http://astropedia.astrogeology.usgs.gov/download/Mars/Viking/syrtis_major_enhanced.tif/full.jpg'},\n",
       "  {'title': 'Valles Marineris Hemisphere Enhanced',\n",
       "   'img_url': 'https://web.archive.org/web/20181114182248/http://astropedia.astrogeology.usgs.gov/download/Mars/Viking/valles_marineris_enhanced.tif/full.jpg'}]}"
      ]
     },
     "execution_count": 4,
     "metadata": {},
     "output_type": "execute_result"
    }
   ],
   "source": [
    "scrape()"
   ]
  },
  {
   "cell_type": "code",
   "execution_count": null,
   "metadata": {},
   "outputs": [],
   "source": []
  }
 ],
 "metadata": {
  "@webio": {
   "lastCommId": null,
   "lastKernelId": null
  },
  "kernelspec": {
   "display_name": "PythonData",
   "language": "python",
   "name": "pythondata"
  },
  "language_info": {
   "codemirror_mode": {
    "name": "ipython",
    "version": 3
   },
   "file_extension": ".py",
   "mimetype": "text/x-python",
   "name": "python",
   "nbconvert_exporter": "python",
   "pygments_lexer": "ipython3",
   "version": "3.6.8"
  }
 },
 "nbformat": 4,
 "nbformat_minor": 2
}
